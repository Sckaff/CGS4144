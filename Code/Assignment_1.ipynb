{
 "cells": [
  {
   "cell_type": "markdown",
   "metadata": {},
   "source": [
    "# Import libraries"
   ]
  },
  {
   "cell_type": "code",
   "execution_count": null,
   "metadata": {},
   "outputs": [],
   "source": [
    "# TODO Please add comments explaining what the purpose of each of these script modules are for future reference\n",
    "import pandas as pd\n",
    "import numpy as np\n",
    "import pickle\n",
    "import os"
   ]
  },
  {
   "cell_type": "markdown",
   "metadata": {},
   "source": [
    "# RPKM"
   ]
  },
  {
   "cell_type": "markdown",
   "metadata": {},
   "source": [
    "## BCCA Cohort"
   ]
  },
  {
   "cell_type": "code",
   "execution_count": null,
   "metadata": {},
   "outputs": [],
   "source": [
    "# NCI\n",
    "patient_arr_NCI = os.listdir(\"../Raw_Data/BCCA/NCI/\")\n",
    "\n",
    "for id, patient in enumerate(patient_arr_NCI):\n",
    "\n",
    "    name = patient.rsplit('.')[0]\n",
    "    temp = pd.read_csv(fr\"..\\Raw_Data\\BCCA\\NCI\\{patient}\", sep=\"\\t\").set_index(\"gene\").drop([\"raw_counts\", \"median_length_normalized\"], axis=1)\n",
    "    temp = temp.rename(columns={'RPKM':name})\n",
    "\n",
    "    if id == 0:\n",
    "        df_BCCA_RPKM = temp\n",
    "        continue\n",
    "\n",
    "    df_BCCA_RPKM = df_BCCA_RPKM.join(temp)\n",
    "\n",
    "# FHCRC\n",
    "patient_arr_FHCRC = os.listdir(\"../Raw_Data/BCCA/FHCRC/\")\n",
    "\n",
    "for id, patient in enumerate(patient_arr_FHCRC):\n",
    "\n",
    "    name = patient.rsplit('.')[0]\n",
    "\n",
    "    if name in df_BCCA_RPKM: # Only PASIEJ seems to be duplicated\n",
    "        name = name + \"_second\"\n",
    "\n",
    "    temp = pd.read_csv(fr\"..\\Raw_Data\\BCCA\\FHCRC\\{patient}\", sep=\"\\t\").set_index(\"gene\").drop([\"raw_counts\", \"median_length_normalized\"], axis=1)\n",
    "    temp = temp.rename(columns={'RPKM':name})\n",
    "    df_BCCA_RPKM = df_BCCA_RPKM.join(temp)"
   ]
  },
  {
   "cell_type": "code",
   "execution_count": null,
   "metadata": {},
   "outputs": [],
   "source": [
    "df_BCCA_NCI_RPKM = df_BCCA_RPKM.iloc[:, :357]\n",
    "df_BCCA_FHCRC_RPKM = df_BCCA_RPKM.iloc[:,358:]"
   ]
  },
  {
   "cell_type": "markdown",
   "metadata": {},
   "source": [
    "## FHCRC Low Depth"
   ]
  },
  {
   "cell_type": "code",
   "execution_count": null,
   "metadata": {},
   "outputs": [],
   "source": [
    "df_FHCRC_LD = pd.read_csv(r\"..\\Raw_Data\\FHCRC_Low_Depth\\TARGET_NBM_AML_QuantileNormalized_RPKM.txt\", sep=\"\\t\")\n",
    "df_FHCRC_LD = df_FHCRC_LD.set_index(\"gene_name\").sort_index(axis=0).rename({\"gene_name\":\"Symbol\"}, axis=1).drop(\"gene_id\", axis=1)"
   ]
  },
  {
   "cell_type": "code",
   "execution_count": null,
   "metadata": {},
   "outputs": [],
   "source": [
    "df_FHCRC_LD"
   ]
  },
  {
   "cell_type": "code",
   "execution_count": null,
   "metadata": {},
   "outputs": [],
   "source": [
    "pd.read_csv(r\"..\\Raw_Data\\FHCRC_AAML0031_AAML0631\\TARGET-20-CMS-50A-01R.transcript.quantification.txt\", sep=\"\\t\")"
   ]
  },
  {
   "cell_type": "markdown",
   "metadata": {},
   "source": [
    "## NCI_Meerzaman\n",
    "Couldn't find metadata"
   ]
  },
  {
   "cell_type": "code",
   "execution_count": null,
   "metadata": {},
   "outputs": [],
   "source": [
    "patient_arr_NCI_M = os.listdir(\"../Raw_Data/NCI_Meerzaman/\")\n",
    "\n",
    "for id, patient in enumerate(patient_arr_NCI_M):\n",
    "\n",
    "    name = patient.rsplit('.')[0]\n",
    "    temp = pd.read_csv(fr\"..\\Raw_Data\\NCI_Meerzaman\\{patient}\", sep=\"\\t\").set_index(\"gene\").drop([\"raw_count\"], axis=1)\n",
    "    temp = temp.rename(columns={'rpkm':name})\n",
    "\n",
    "    if id == 0:\n",
    "        df_NCI_M_RPKM = temp\n",
    "        continue\n",
    "\n",
    "    df_NCI_M_RPKM = df_NCI_M_RPKM.join(temp)"
   ]
  },
  {
   "cell_type": "code",
   "execution_count": null,
   "metadata": {},
   "outputs": [],
   "source": [
    "df_NCI_M_RPKM"
   ]
  },
  {
   "cell_type": "markdown",
   "metadata": {},
   "source": [
    "## FHCRC_AAML0031_AAML0631\n",
    "Cohort has no header"
   ]
  },
  {
   "cell_type": "code",
   "execution_count": null,
   "metadata": {},
   "outputs": [],
   "source": [
    "pd.read_csv(r\"..\\Raw_Data\\FHCRC_AAML0031_AAML0631\\TARGET-20-CMS-50A-01R.transcript.quantification.txt\", sep=\"\\t\")"
   ]
  },
  {
   "cell_type": "markdown",
   "metadata": {},
   "source": [
    "# Raw Count"
   ]
  },
  {
   "cell_type": "markdown",
   "metadata": {},
   "source": [
    "## BCCA"
   ]
  },
  {
   "cell_type": "code",
   "execution_count": null,
   "metadata": {},
   "outputs": [],
   "source": [
    "# NCI\n",
    "patient_arr_NCI = os.listdir(\"../Raw_Data/BCCA/NCI/\")\n",
    "\n",
    "for id, patient in enumerate(patient_arr_NCI):\n",
    "\n",
    "    name = patient.rsplit('.')[0]\n",
    "    temp = pd.read_csv(fr\"..\\Raw_Data\\BCCA\\NCI\\{patient}\", sep=\"\\t\").set_index(\"gene\").drop([\"RPKM\", \"median_length_normalized\"], axis=1)\n",
    "    temp = temp.rename(columns={'raw_counts':name})\n",
    "\n",
    "    if id == 0:\n",
    "        df_BCCA_Counts = temp\n",
    "        continue\n",
    "\n",
    "    df_BCCA_Counts = df_BCCA_Counts.join(temp)\n",
    "\n",
    "# FHCRC\n",
    "patient_arr_FHCRC = os.listdir(\"../Raw_Data/BCCA/FHCRC/\")\n",
    "\n",
    "for id, patient in enumerate(patient_arr_FHCRC):\n",
    "\n",
    "    name = patient.rsplit('.')[0]\n",
    "\n",
    "    if name in df_BCCA_Counts: # Only PASIEJ seems to be duplicated\n",
    "        name = name + \"_second\"\n",
    "\n",
    "    temp = pd.read_csv(fr\"..\\Raw_Data\\BCCA\\FHCRC\\{patient}\", sep=\"\\t\").set_index(\"gene\").drop([\"RPKM\", \"median_length_normalized\"], axis=1)\n",
    "    temp = temp.rename(columns={'raw_counts':name})\n",
    "    df_BCCA_Counts = df_BCCA_Counts.join(temp)"
   ]
  },
  {
   "cell_type": "code",
   "execution_count": null,
   "metadata": {},
   "outputs": [],
   "source": [
    "df_BCCA_NCI_Counts = df_BCCA_Counts.iloc[:, :357]\n",
    "df_BCCA_FHCRC_Counts = df_BCCA_Counts.iloc[:,358:]"
   ]
  },
  {
   "cell_type": "markdown",
   "metadata": {},
   "source": [
    "## NCI_Meerzaman\n",
    "No metadata"
   ]
  },
  {
   "cell_type": "code",
   "execution_count": null,
   "metadata": {},
   "outputs": [],
   "source": [
    "patient_arr_NCI_M = os.listdir(\"../Raw_Data/NCI_Meerzaman/\")\n",
    "\n",
    "for id, patient in enumerate(patient_arr_NCI_M):\n",
    "\n",
    "    name = patient.rsplit('.')[0]\n",
    "    temp = pd.read_csv(fr\"..\\Raw_Data\\NCI_Meerzaman\\{patient}\", sep=\"\\t\").set_index(\"gene\").drop([\"rpkm\"], axis=1)\n",
    "    temp = temp.rename(columns={'raw_count':name})\n",
    "\n",
    "    if id == 0:\n",
    "        df_NCI_M_Counts = temp\n",
    "        continue\n",
    "\n",
    "    df_NCI_M_Counts = df_NCI_M_Counts.join(temp)"
   ]
  },
  {
   "cell_type": "code",
   "execution_count": null,
   "metadata": {},
   "outputs": [],
   "source": [
    "df_NCI_M_Counts"
   ]
  },
  {
   "cell_type": "markdown",
   "metadata": {},
   "source": [
    "# Export"
   ]
  },
  {
   "cell_type": "markdown",
   "metadata": {},
   "source": [
    "## BCCA"
   ]
  },
  {
   "cell_type": "code",
   "execution_count": null,
   "metadata": {},
   "outputs": [],
   "source": [
    "# RPKM\n",
    "with open('../Datasets/BCCA_RPKM.pickle', 'wb') as f:\n",
    "    pickle.dump(df_BCCA_RPKM, f)\n",
    "\n",
    "# Counts\n",
    "with open('../Datasets/BCCA_Counts.pickle', 'wb') as f:\n",
    "    pickle.dump(df_BCCA_Counts, f)\n",
    "\n",
    "### BCCA_NCI ###\n",
    "# RPKM\n",
    "with open('../Datasets/BCCA_NCI_RPKM.pickle', 'wb') as f:\n",
    "    pickle.dump(df_BCCA_NCI_RPKM, f)\n",
    "\n",
    "# Counts\n",
    "with open('../Datasets/BCCA_NCI_Counts.pickle', 'wb') as f:\n",
    "    pickle.dump(df_BCCA_NCI_Counts, f)\n",
    "\n",
    "### BCCA_FHCRC ###\n",
    "# RPKM\n",
    "with open('../Datasets/BCCA_FHCRC_RPKM.pickle', 'wb') as f:\n",
    "    pickle.dump(df_BCCA_FHCRC_RPKM, f)\n",
    "\n",
    "# Counts\n",
    "with open('../Datasets/BCCA_FHCRC_Counts.pickle', 'wb') as f:\n",
    "    pickle.dump(df_BCCA_FHCRC_Counts, f)"
   ]
  },
  {
   "cell_type": "markdown",
   "metadata": {},
   "source": [
    "## FHCRC Low Depth (Only RPKM)"
   ]
  },
  {
   "cell_type": "code",
   "execution_count": null,
   "metadata": {},
   "outputs": [],
   "source": [
    "# FHCRC_Low_Depth RPKM\n",
    "with open('../Datasets/FHCRC_Low_Depth_RPKM.pickle', 'wb') as f:\n",
    "    pickle.dump(df_FHCRC_LD, f)"
   ]
  },
  {
   "cell_type": "markdown",
   "metadata": {},
   "source": [
    "## NCI Meerzaman (Find Metadata)"
   ]
  },
  {
   "cell_type": "code",
   "execution_count": null,
   "metadata": {},
   "outputs": [],
   "source": [
    "# RPKM\n",
    "with open('../Datasets/NCI_Meerzaman_RPKM.pickle', 'wb') as f:\n",
    "    pickle.dump(df_NCI_M_RPKM, f)\n",
    "\n",
    "# Counts\n",
    "with open('../Datasets/NCI_Meerzaman_Counts.pickle', 'wb') as f:\n",
    "    pickle.dump(df_NCI_M_Counts, f)"
   ]
  },
  {
   "cell_type": "markdown",
   "metadata": {},
   "source": [
    "## OBS - To load:\n",
    "``` python\n",
    "with open('mypickle.pickle', 'rb') as f:\n",
    "    loaded_obj = pickle.load(f)\n",
    "```"
   ]
  },
  {
   "cell_type": "code",
   "execution_count": null,
   "metadata": {},
   "outputs": [],
   "source": [
    "with open('../Processed_Data/BCCA_Counts.pickle', 'rb') as f:\n",
    "    x = pickle.load(f)"
   ]
  },
  {
   "cell_type": "code",
   "execution_count": null,
   "metadata": {},
   "outputs": [],
   "source": [
    "meta_data = pd.read_csv('../Processed_Data/Metadata.csv')"
   ]
  }
 ],
 "metadata": {
  "kernelspec": {
   "display_name": "Python 3.10.7 64-bit",
   "language": "python",
   "name": "python3"
  },
  "language_info": {
   "codemirror_mode": {
    "name": "ipython",
    "version": 3
   },
   "file_extension": ".py",
   "mimetype": "text/x-python",
   "name": "python",
   "nbconvert_exporter": "python",
   "pygments_lexer": "ipython3",
   "version": "3.10.7"
  },
  "orig_nbformat": 4,
  "vscode": {
   "interpreter": {
    "hash": "26de051ba29f2982a8de78e945f0abaf191376122a1563185a90213a26c5da77"
   }
  }
 },
 "nbformat": 4,
 "nbformat_minor": 2
}
