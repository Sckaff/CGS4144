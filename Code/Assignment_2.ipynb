{
 "cells": [
  {
   "cell_type": "markdown",
   "metadata": {},
   "source": [
    "# Import libraries"
   ]
  },
  {
   "cell_type": "markdown",
   "metadata": {},
   "source": [
    "Our data analysis is dependent on the following packages:\n",
    "- [pandas](https://pandas.pydata.org/) for data manipulation\n",
    "- [PyEnsembl](https://github.com/openvax/pyensembl) for working with genome data\n",
    "- [seaborn](https://seaborn.pydata.org/) for drawing attractive statistical graphs\n",
    "- [Matplotlib](https://matplotlib.org/) for visualizing data relationships\n",
    "- [methylcheck](https://pypi.org/project/methylcheck/) for the density plot (they do it nice)\n",
    "- [methylprep](https://pypi.org/project/methylprep/) to use methylcheck\n",
    "- [umap-learn](https://pypi.org/project/umap-learn/) for building UMAPs\n",
    "- [scikit-learn](https://scikit-learn.org/stable/index.html) for machine learning\n",
    "\n",
    "\n",
    "You can install these modules by running the below script inside Jupyter:\n",
    "```\n",
    "%pip install pandas\n",
    "%pip install pyensembl\n",
    "%pip install seaborn\n",
    "%pip install methylcheck\n",
    "%pip install methylprep\n",
    "%pip install umap-learn\n",
    "%pip install scikit-learn\n",
    "```"
   ]
  },
  {
   "cell_type": "code",
   "execution_count": 1,
   "metadata": {},
   "outputs": [],
   "source": [
    "from pyensembl import EnsemblRelease\n",
    "import pandas as pd\n",
    "import numpy as np\n",
    "import seaborn as sns\n",
    "import matplotlib.pyplot as plt\n",
    "import methylcheck\n",
    "import pickle\n",
    "from sklearn.decomposition import PCA\n",
    "import umap.umap_ as umap"
   ]
  },
  {
   "cell_type": "markdown",
   "metadata": {},
   "source": [
    "# Change Ensembl IDs to HGNC"
   ]
  },
  {
   "cell_type": "code",
   "execution_count": null,
   "metadata": {},
   "outputs": [],
   "source": [
    "# Open counts file\n",
    "df = pd.read_pickle('../Data/Raw/BCCA_Counts.pickle')    \n",
    "\n",
    "# Open clinical data\n",
    "clinical_data = pd.read_pickle(\"../Data/clinical_data.pickle\")"
   ]
  },
  {
   "cell_type": "code",
   "execution_count": null,
   "metadata": {},
   "outputs": [],
   "source": [
    "clinical_data"
   ]
  },
  {
   "cell_type": "markdown",
   "metadata": {},
   "source": [
    "## Gather meta data of all identified genes"
   ]
  },
  {
   "cell_type": "code",
   "execution_count": null,
   "metadata": {},
   "outputs": [],
   "source": [
    "# Reference genome = GRCh38\n",
    "# 9,033 Ensembl IDs were not identified\n",
    "# 11,309 Ensembl IDs were identified but have no Gene ID (for the reference genome GRCh38)\n",
    "    # These 11,309 were included in meta_data.pickle (gene_meta_data dataframe)\n",
    "\n",
    "# Using pyensembl to get Ensembl Gene IDs\n",
    "Genome = EnsemblRelease()\n",
    "gene = Genome.gene_by_id(df.index[0])\n",
    "gene_meta_data = pd.Series([gene.gene_id, gene.gene_name, gene.biotype, gene.contig, gene.start, gene.end, gene.strand]).to_frame().transpose()\n",
    "\n",
    "# Getting all the genes in the count file\n",
    "unnamed_genes = []\n",
    "for id, ensembl in enumerate(df.index):\n",
    "    try:\n",
    "\n",
    "        if id == 0:\n",
    "            continue\n",
    "        \n",
    "        gene = Genome.gene_by_id(ensembl)\n",
    "\n",
    "        temp_list = pd.Series([gene.gene_id, gene.gene_name, gene.biotype, gene.contig, gene.start, gene.end, gene.strand]).to_frame().transpose()\n",
    "        gene_meta_data = gene_meta_data.append(temp_list)\n",
    "\n",
    "    except:\n",
    "        unnamed_genes.append(ensembl)\n",
    "\n",
    "# Making it pretty\n",
    "gene_meta_data = gene_meta_data.rename(columns={0:'Gene_ID', 1:'Gene_Name', 2:'Gene_Biotype', 3:'Contig_Chromosome', 4:'Start', 5:'End', 6:'Strand'})\n",
    "gene_meta_data = gene_meta_data.set_index(\"Gene_ID\")"
   ]
  },
  {
   "cell_type": "markdown",
   "metadata": {},
   "source": [
    "## Dropping nameless genes from dataframe"
   ]
  },
  {
   "cell_type": "code",
   "execution_count": null,
   "metadata": {},
   "outputs": [],
   "source": [
    "identified_nameless_genes = []\n",
    "\n",
    "for id, ensembl in enumerate(df.index):\n",
    "    try:\n",
    "        gene = Genome.gene_by_id(ensembl)\n",
    "\n",
    "        if gene.gene_name == \"\":\n",
    "            identified_nameless_genes.append(ensembl)\n",
    "            continue\n",
    "    except:\n",
    "        continue\n",
    "\n",
    "# Dropping the genes that have info about them, but no name (interesting ones)\n",
    "gene_meta_data2 = gene_meta_data.drop(identified_nameless_genes)\n",
    "\n",
    "# Gathering only the name of the genes (instead of the metadata (where can we find them, chr, etc.))\n",
    "gene_names_column = gene_meta_data2[\"Gene_Name\"]\n",
    "\n",
    "# Dropping unnamed genes\n",
    "df2 = df.drop(unnamed_genes)\n",
    "\n",
    "# Finally making the HGNC genes in the index (where Ensembl lied)\n",
    "df2 = df2.join(gene_names_column.to_frame()).set_index(\"Gene_Name\")"
   ]
  },
  {
   "cell_type": "markdown",
   "metadata": {},
   "source": [
    "# Log Scale the data"
   ]
  },
  {
   "cell_type": "code",
   "execution_count": null,
   "metadata": {},
   "outputs": [],
   "source": [
    "df2 = np.log2(df2 + 1)\n",
    "description_log_scaled_dataset = df2.T.describe().T\n",
    "\n",
    "# Adjusting for non-expressed genes (37,688 in total)\n",
    "HGNC_Log_Scaled = df2[description_log_scaled_dataset[\"std\"] > 0]"
   ]
  },
  {
   "cell_type": "markdown",
   "metadata": {},
   "source": [
    "# Creating a final, cleaned data frame"
   ]
  },
  {
   "cell_type": "code",
   "execution_count": null,
   "metadata": {},
   "outputs": [],
   "source": [
    "# Gather Log-Scaled data\n",
    "df0 = HGNC_Log_Scaled.T.reset_index()\n",
    "df1 = df0.join(df0['index'].str.rsplit(pat='-',n=2,expand=True)[0])\n",
    "df2 = df1.set_index(0)\n",
    "\n",
    "# Change index of clinical data, then drop duplicates\n",
    "clinical_data = clinical_data.rename(columns={\"TARGET USI\":\"Patient_ID\"}).set_index(\"Patient_ID\")\n",
    "clinical_data2 = clinical_data.reset_index().drop_duplicates(subset='Patient_ID').set_index('Patient_ID')\n",
    "\n",
    "# Join Log-Scale and Clinical Data\n",
    "df3 = df2.join(clinical_data2, how='inner')\n",
    "\n",
    "df4 = df3.set_index(\"index\")\n",
    "\n",
    "# Only protocol/cohort we are going to use because it has >1000 samples and cohorts are not batch-corrected\n",
    "df5 = df4[df4[\"Protocol\"] == \"AAML1031\"]\n",
    "\n",
    "# Get clinical data from the dataframe\n",
    "df5_clinical  = df5.iloc[:,df3.shape[1]-clinical_data2.shape[1]-1:]\n",
    "\n",
    "# Get the data from the dataframe\n",
    "x = df5.iloc[:,:df3.shape[1]-clinical_data2.shape[1]-2]"
   ]
  },
  {
   "cell_type": "markdown",
   "metadata": {},
   "source": [
    "# Export"
   ]
  },
  {
   "cell_type": "code",
   "execution_count": null,
   "metadata": {},
   "outputs": [],
   "source": [
    "# Clinical Data\n",
    "clinical_data.to_pickle(\"../Data/pickled/clinical_data.pickle\")\n",
    "\n",
    "# Processed Data\n",
    "x.to_pickle(\"../Data/pickled/log_scaled_data.pickle\")\n",
    "\n",
    "# Gene meta data (where it lies, which chromosome, what it does, etc)\n",
    "gene_meta_data.to_pickle('../Data/Pre_Processed/meta_data.pickle')\n",
    "\n",
    "# Genes with no HGNC\n",
    "unnamed_genes.to_pickle('../Data/Pre_Processed/unnamed_genes.pickle')"
   ]
  },
  {
   "cell_type": "markdown",
   "metadata": {},
   "source": [
    "# Plotting"
   ]
  },
  {
   "cell_type": "markdown",
   "metadata": {},
   "source": [
    "## Load stuff"
   ]
  },
  {
   "cell_type": "code",
   "execution_count": null,
   "metadata": {},
   "outputs": [],
   "source": [
    "data = pd.read_pickle('../Data/processed_data.pickle')\n",
    "data"
   ]
  },
  {
   "cell_type": "code",
   "execution_count": null,
   "metadata": {},
   "outputs": [],
   "source": [
    "clinical = pd.read_pickle('../Data/clinical_data.pickle')\n",
    "clinical"
   ]
  },
  {
   "cell_type": "markdown",
   "metadata": {},
   "source": [
    "## Density plot"
   ]
  },
  {
   "cell_type": "code",
   "execution_count": null,
   "metadata": {},
   "outputs": [],
   "source": [
    "# TODO Find size of expression matrix, identify degree of variation; basically analyze this chart below\n",
    "methylcheck.beta_density_plot(data, full_range=True, plot_title=\"Density Plot\")"
   ]
  },
  {
   "cell_type": "markdown",
   "metadata": {},
   "source": [
    "## PCA"
   ]
  },
  {
   "cell_type": "code",
   "execution_count": null,
   "metadata": {},
   "outputs": [],
   "source": [
    "# Fit PCA\n",
    "pca_decomp = PCA(random_state=42, n_components=2)\n",
    "data_PCs = pca_decomp.fit_transform(data)"
   ]
  },
  {
   "cell_type": "code",
   "execution_count": null,
   "metadata": {},
   "outputs": [],
   "source": [
    "def draw_PCAplot(score, hue=None):\n",
    "    \n",
    "    sns.set_theme(style=\"white\", color_codes=True)\n",
    "\n",
    "    # Define variables\n",
    "    score2 = score[:,0:2]\n",
    "    xs = score2[:,0]\n",
    "    ys = score2[:,1]\n",
    "\n",
    "    scalex = 1.0/(xs.max() - xs.min())\n",
    "    scaley = 1.0/(ys.max() - ys.min())\n",
    "\n",
    "    # Define scatterplot\n",
    "\n",
    "    sns.scatterplot(x=xs * scalex, y=ys * scaley,\n",
    "                    palette='husl', s=10,\n",
    "                    linewidth=0, alpha=1,\n",
    "                    data=clinical, hue=hue)\n",
    "\n",
    "    # Define plot specs\n",
    "    plt.title(\"PCA Decomposition by RNA-seq\",\n",
    "               fontsize = 12)        \n",
    "               \n",
    "    plt.xlabel(\"PC 1\")\n",
    "    plt.ylabel(\"PC 2\")\n",
    "    plt.tight_layout()\n",
    "\n",
    "    # Save figure\n",
    "    #plt.savefig('test' + title + '.png',\n",
    "    #bbox_inches='tight', dpi=300)\n",
    "\n",
    "    return(plt.show())"
   ]
  },
  {
   "cell_type": "code",
   "execution_count": null,
   "metadata": {},
   "outputs": [],
   "source": [
    "draw_PCAplot(data_PCs)\n",
    "draw_PCAplot(data_PCs, hue=\"Primary Cytogenetic Code\")"
   ]
  },
  {
   "cell_type": "markdown",
   "metadata": {},
   "source": [
    "## UMAP"
   ]
  },
  {
   "cell_type": "code",
   "execution_count": null,
   "metadata": {},
   "outputs": [],
   "source": [
    "reducer = umap.UMAP(n_neighbors=15, min_dist=0.01, n_epochs=100, random_state=42)\n",
    "mp_umap = reducer.fit_transform(data)"
   ]
  },
  {
   "cell_type": "code",
   "execution_count": null,
   "metadata": {},
   "outputs": [],
   "source": [
    "def draw_UMAPplot(score, hue=None):\n",
    "    \n",
    "    sns.set_theme(style=\"white\", color_codes=True)\n",
    "\n",
    "    # Define variables\n",
    "    score2 = score[:,0:2]\n",
    "    xs = score2[:,0]\n",
    "    ys = score2[:,1]\n",
    "\n",
    "    # Define scatterplot\n",
    "\n",
    "    sns.scatterplot(data=clinical, x=xs, y=ys,\n",
    "                    palette='husl', s=10,\n",
    "                    linewidth=0, alpha=1, hue=hue)\n",
    "\n",
    "    # Define plot specs\n",
    "    plt.title(\"UMAP by RNA-seq\",\n",
    "               fontsize = 12)        \n",
    "               \n",
    "    plt.xlabel(\"UMAP 1\")\n",
    "    plt.ylabel(\"UMAP 2\")\n",
    "    plt.tight_layout()\n",
    "\n",
    "    # Save figure\n",
    "    #plt.savefig('test2' + title + '.png',\n",
    "    #bbox_inches='tight', dpi=300)\n",
    "\n",
    "    return(plt.show())"
   ]
  },
  {
   "cell_type": "code",
   "execution_count": null,
   "metadata": {},
   "outputs": [],
   "source": [
    "#Call the UMAP function.\n",
    "draw_UMAPplot(mp_umap)\n",
    "draw_UMAPplot(mp_umap, hue=\"Primary Cytogenetic Code\")"
   ]
  },
  {
   "cell_type": "markdown",
   "metadata": {},
   "source": [
    "## Preparing pickled data for R"
   ]
  },
  {
   "cell_type": "code",
   "execution_count": 27,
   "metadata": {},
   "outputs": [],
   "source": [
    "counts = pd.read_pickle('../Data/counts_data.pickle')\n",
    "counts.to_csv('../Data/counts.csv')"
   ]
  },
  {
   "cell_type": "code",
   "execution_count": null,
   "metadata": {},
   "outputs": [],
   "source": [
    "counts"
   ]
  },
  {
   "cell_type": "code",
   "execution_count": 28,
   "metadata": {},
   "outputs": [],
   "source": [
    "conditions = pd.read_pickle('../Data/patient_condition.pickle')\n",
    "# Set index to the genes before exporting to csv\n",
    "conditions = conditions.set_index('Unnamed: 0')\n",
    "conditions.to_csv('../Data/conditions.csv')"
   ]
  },
  {
   "cell_type": "code",
   "execution_count": null,
   "metadata": {},
   "outputs": [],
   "source": [
    "conditions"
   ]
  }
 ],
 "metadata": {
  "kernelspec": {
   "display_name": "Python 3.10.7 64-bit",
   "language": "python",
   "name": "python3"
  },
  "language_info": {
   "codemirror_mode": {
    "name": "ipython",
    "version": 3
   },
   "file_extension": ".py",
   "mimetype": "text/x-python",
   "name": "python",
   "nbconvert_exporter": "python",
   "pygments_lexer": "ipython3",
   "version": "3.10.7"
  },
  "orig_nbformat": 4,
  "vscode": {
   "interpreter": {
    "hash": "26de051ba29f2982a8de78e945f0abaf191376122a1563185a90213a26c5da77"
   }
  }
 },
 "nbformat": 4,
 "nbformat_minor": 2
}
