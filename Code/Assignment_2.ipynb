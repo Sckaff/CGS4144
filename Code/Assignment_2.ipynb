{
 "cells": [
  {
   "cell_type": "markdown",
   "metadata": {},
   "source": [
    "# Import libraries"
   ]
  },
  {
   "cell_type": "markdown",
   "metadata": {},
   "source": [
    "Our data analysis is dependent on the following packages:\n",
    "- [pandas](https://pandas.pydata.org/) for data manipulation\n",
    "- [PyEnsembl](https://github.com/openvax/pyensembl) for working with genome data\n",
    "- [seaborn](https://seaborn.pydata.org/) for drawing attractive statistical graphs\n",
    "- [Matplotlib](https://matplotlib.org/) for visualizing data relationships\n",
    "- [methylcheck](https://pypi.org/project/methylcheck/) for filtering and visualizing methylation array data\n",
    "- [methylprep](https://pypi.org/project/methylprep/)\n",
    "- [umap-learn](https://pypi.org/project/umap-learn/) for building UMAPs\n",
    "- [scikit-learn](https://scikit-learn.org/stable/index.html)\n",
    "You can install these modules by running the below script inside Jupyter:\n"
   ]
  },
  {
   "cell_type": "code",
   "execution_count": null,
   "metadata": {},
   "outputs": [],
   "source": [
    "%pip install pandas\n",
    "%pip install pyensembl\n",
    "%pip install seaborn\n",
    "%pip install methylcheck\n",
    "%pip install methylprep\n",
    "%pip install umap-learn\n",
    "%pip install scikit-learn"
   ]
  },
  {
   "cell_type": "code",
   "execution_count": null,
   "metadata": {},
   "outputs": [],
   "source": [
    "from pyensembl import EnsemblRelease\n",
    "import pandas as pd\n",
    "import numpy as np\n",
    "import seaborn as sns\n",
    "import matplotlib.pyplot as plt\n",
    "import methylcheck\n",
    "import pickle\n",
    "from sklearn.decomposition import PCA\n",
    "import umap.umap_ as umap"
   ]
  },
  {
   "cell_type": "markdown",
   "metadata": {},
   "source": [
    "# Change Ensembl IDs to HGNC"
   ]
  },
  {
   "cell_type": "markdown",
   "metadata": {},
   "source": [
    "## Open pre-processed data"
   ]
  },
  {
   "cell_type": "code",
   "execution_count": null,
   "metadata": {},
   "outputs": [],
   "source": [
    "with open('../Processed_Data/BCCA_Counts.pickle', 'rb') as f:\n",
    "    df = pickle.load(f)"
   ]
  },
  {
   "cell_type": "code",
   "execution_count": null,
   "metadata": {},
   "outputs": [],
   "source": [
    "with open('../Processed_Data/meta_data.pickle', 'rb') as f:\n",
    "    gene_meta_data = pickle.load(f)"
   ]
  },
  {
   "cell_type": "markdown",
   "metadata": {},
   "source": [
    "## Gather meta data of all identified genes"
   ]
  },
  {
   "cell_type": "code",
   "execution_count": null,
   "metadata": {},
   "outputs": [],
   "source": [
    "# TODO Explain these comments and where meta_data.pickle is\n",
    "# Reference genome = GRCh38\n",
    "# 9,033 Ensembl IDs were not identified\n",
    "# 11,309 Ensembl IDs were identified but have no Gene ID (for the reference genome GRCh38)\n",
    "    # These 11,309 were included in meta_data.pickle (gene_meta_data dataframe)\n",
    "\n",
    "Genome = EnsemblRelease()\n",
    "gene = Genome.gene_by_id(df.index[0])\n",
    "gene_meta_data = pd.Series([gene.gene_id, gene.gene_name, gene.biotype, gene.contig, gene.start, gene.end, gene.strand]).to_frame().transpose()\n",
    "\n",
    "unnamed_genes = []\n",
    "\n",
    "for id, ensembl in enumerate(df.index):\n",
    "    try:\n",
    "\n",
    "        if id == 0:\n",
    "            continue\n",
    "        \n",
    "        gene = Genome.gene_by_id(ensembl)\n",
    "\n",
    "        temp_list = pd.Series([gene.gene_id, gene.gene_name, gene.biotype, gene.contig, gene.start, gene.end, gene.strand]).to_frame().transpose()\n",
    "        gene_meta_data = gene_meta_data.append(temp_list)\n",
    "\n",
    "    except:\n",
    "        unnamed_genes.append(ensembl)\n",
    "\n",
    "gene_meta_data = gene_meta_data.rename(columns={0:'Gene_ID', 1:'Gene_Name', 2:'Gene_Biotype', 3:'Contig_Chromosome', 4:'Start', 5:'End', 6:'Strand'})\n",
    "gene_meta_data = gene_meta_data.set_index(\"Gene_ID\")"
   ]
  },
  {
   "cell_type": "markdown",
   "metadata": {},
   "source": [
    "## Drop nameless genes"
   ]
  },
  {
   "cell_type": "code",
   "execution_count": null,
   "metadata": {},
   "outputs": [],
   "source": [
    "identified_nameless_genes = []\n",
    "\n",
    "for id, ensembl in enumerate(df.index):\n",
    "    try:\n",
    "        gene = Genome.gene_by_id(ensembl)\n",
    "\n",
    "        if gene.gene_name == \"\":\n",
    "            identified_nameless_genes.append(ensembl)\n",
    "            continue\n",
    "    except:\n",
    "        continue\n",
    "\n",
    "gene_meta_data2 = gene_meta_data.drop(identified_nameless_genes)\n",
    "gene_names_column = gene_meta_data2[\"Gene_Name\"]\n",
    "\n",
    "df2 = df.drop(unnamed_genes)\n",
    "df2 = df2.join(gene_names_column.to_frame()).set_index(\"Gene_Name\")"
   ]
  },
  {
   "cell_type": "markdown",
   "metadata": {},
   "source": [
    "## Processing clinical data"
   ]
  },
  {
   "cell_type": "code",
   "execution_count": null,
   "metadata": {},
   "outputs": [],
   "source": [
    "clinical_data = pd.read_csv(\"../Raw_Data/clinical_data.csv\")\n",
    "clinical_data = clinical_data.rename(columns={\"TARGET USI\":\"Patient_ID\"}).set_index(\"Patient_ID\")"
   ]
  },
  {
   "cell_type": "markdown",
   "metadata": {},
   "source": [
    "## Export data"
   ]
  },
  {
   "cell_type": "markdown",
   "metadata": {},
   "source": [
    "### BCCA_Counts with identified genes as HGNC"
   ]
  },
  {
   "cell_type": "code",
   "execution_count": null,
   "metadata": {},
   "outputs": [],
   "source": [
    "with open('../Data/Pre_Processed/HGNC_BCCA_Counts.pickle', 'wb') as f:\n",
    "    pickle.dump(df2, f)"
   ]
  },
  {
   "cell_type": "markdown",
   "metadata": {},
   "source": [
    "### Clinical Data"
   ]
  },
  {
   "cell_type": "code",
   "execution_count": null,
   "metadata": {},
   "outputs": [],
   "source": [
    "with open('../Data/Pre_Processed/clinical_data.pickle', 'wb') as f:\n",
    "    pickle.dump(clinical_data, f)"
   ]
  },
  {
   "cell_type": "markdown",
   "metadata": {},
   "source": [
    "### Gene Meta Data"
   ]
  },
  {
   "cell_type": "code",
   "execution_count": null,
   "metadata": {},
   "outputs": [],
   "source": [
    "with open('../Data/Pre_Processed/meta_data.pickle', 'wb') as f:\n",
    "    pickle.dump(gene_meta_data, f)"
   ]
  },
  {
   "cell_type": "markdown",
   "metadata": {},
   "source": [
    "### List of not-found genes"
   ]
  },
  {
   "cell_type": "code",
   "execution_count": null,
   "metadata": {},
   "outputs": [],
   "source": [
    "with open('../Data/Pre_Processed/unnamed_genes.pickle', 'wb') as f:\n",
    "    pickle.dump(unnamed_genes, f)"
   ]
  },
  {
   "cell_type": "markdown",
   "metadata": {},
   "source": [
    "# Log Scaling the data"
   ]
  },
  {
   "cell_type": "code",
   "execution_count": null,
   "metadata": {},
   "outputs": [],
   "source": [
    "HGNC_BCCA_Counts = pd.read_pickle(\"../Data/Pre_Processed/HGNC_BCCA_Counts.pickle\")\n",
    "HGNC_Log_Scaled = np.log2(HGNC_BCCA_Counts + 1) #FIXME Why did we do this this way? Just curious\n",
    "description_log_scaled_dataset = HGNC_Log_Scaled.T.describe().T\n",
    "HGNC_Log_Scaled = HGNC_Log_Scaled[description_log_scaled_dataset[\"std\"] > 0] # Adjusting for non-expressed genes (37,688 in total)"
   ]
  },
  {
   "cell_type": "markdown",
   "metadata": {},
   "source": [
    "## Density plot"
   ]
  },
  {
   "cell_type": "code",
   "execution_count": null,
   "metadata": {},
   "outputs": [],
   "source": [
    "# TODO Find size of expression matrix, identify degree of variation; basically analyze this chart below\n",
    "methylcheck.beta_density_plot(HGNC_Log_Scaled, full_range=True, plot_title=\"Density Plot\") # Per-gene expression range"
   ]
  },
  {
   "cell_type": "markdown",
   "metadata": {},
   "source": [
    "# Creating a main data frame"
   ]
  },
  {
   "cell_type": "code",
   "execution_count": null,
   "metadata": {},
   "outputs": [],
   "source": [
    "df0 = HGNC_Log_Scaled.T.reset_index()"
   ]
  },
  {
   "cell_type": "code",
   "execution_count": null,
   "metadata": {},
   "outputs": [],
   "source": [
    "df1 = df0.join(df0['index'].str.rsplit(pat='-',n=2,expand=True)[0])\n",
    "df2 = df1.set_index(0)"
   ]
  },
  {
   "cell_type": "code",
   "execution_count": null,
   "metadata": {},
   "outputs": [],
   "source": [
    "clinical_data = pd.read_pickle(\"../Data/Pre_Processed/clinical_data.pickle\")\n",
    "clinical_data2 = clinical_data.reset_index().drop_duplicates(subset='Patient_ID').set_index('Patient_ID')"
   ]
  },
  {
   "cell_type": "code",
   "execution_count": null,
   "metadata": {},
   "outputs": [],
   "source": [
    "df3 = df2.join(clinical_data2, how='inner')"
   ]
  },
  {
   "cell_type": "code",
   "execution_count": null,
   "metadata": {},
   "outputs": [],
   "source": [
    "df4 = df3.set_index(\"index\")"
   ]
  },
  {
   "cell_type": "code",
   "execution_count": null,
   "metadata": {},
   "outputs": [],
   "source": [
    "df5 = df4[df4[\"Protocol\"] == \"AAML1031\"]"
   ]
  },
  {
   "cell_type": "code",
   "execution_count": null,
   "metadata": {},
   "outputs": [],
   "source": [
    "df5_clinical  = df5.iloc[:,df3.shape[1]-clinical_data2.shape[1]-1:]"
   ]
  },
  {
   "cell_type": "code",
   "execution_count": null,
   "metadata": {},
   "outputs": [],
   "source": [
    "x = df5.iloc[:,:df3.shape[1]-clinical_data2.shape[1]-2]"
   ]
  },
  {
   "cell_type": "markdown",
   "metadata": {},
   "source": [
    "## Export"
   ]
  },
  {
   "cell_type": "code",
   "execution_count": null,
   "metadata": {},
   "outputs": [],
   "source": [
    "# Clinical Data\n",
    "df5_clinical.to_pickle(\"../Data/clinical_data.pickle\")\n",
    "\n",
    "# Processed Data\n",
    "x.to_pickle(\"../Data/processed_data.pickle\")\n",
    "\n",
    "# Repartitioning to upload to GitHub"
   ]
  },
  {
   "cell_type": "code",
   "execution_count": null,
   "metadata": {},
   "outputs": [],
   "source": [
    "quarter = x.shape[0]//4\n",
    "x_1 = x[:quarter]\n",
    "x_1.to_pickle(\"../Data/Processed_Data/part_1.pickle\")\n",
    "x_2 = x[quarter:2*quarter]\n",
    "x_2.to_pickle(\"../Data/Processed_Data/part_2.pickle\")\n",
    "x_3 = x[2*quarter:3*quarter]\n",
    "x_3.to_pickle(\"../Data/Processed_Data/part_3.pickle\")\n",
    "x_4 = x[3*quarter:]\n",
    "x_4.to_pickle(\"../Data/Processed_Data/part_4.pickle\")"
   ]
  },
  {
   "cell_type": "code",
   "execution_count": null,
   "metadata": {},
   "outputs": [],
   "source": [
    "final = pd.read_pickle(\"../Data/Processed_Data/part_1.pickle\")\n",
    "test2 = pd.read_pickle(\"../Data/Processed_Data/part_2.pickle\")\n",
    "test3 = pd.read_pickle(\"../Data/Processed_Data/part_3.pickle\")\n",
    "test4 = pd.read_pickle(\"../Data/Processed_Data/part_4.pickle\")"
   ]
  },
  {
   "cell_type": "code",
   "execution_count": null,
   "metadata": {},
   "outputs": [],
   "source": [
    "final = final.append(test2)\n",
    "final = final.append(test3)\n",
    "final = final.append(test4)"
   ]
  },
  {
   "cell_type": "markdown",
   "metadata": {},
   "source": [
    "# PCA"
   ]
  },
  {
   "cell_type": "code",
   "execution_count": null,
   "metadata": {},
   "outputs": [],
   "source": [
    "# Fit PCA\n",
    "pca_decomp = PCA(random_state=42, n_components=2)\n",
    "data_PCs = pca_decomp.fit_transform(x)"
   ]
  },
  {
   "cell_type": "code",
   "execution_count": null,
   "metadata": {},
   "outputs": [],
   "source": [
    "def draw_PCAplot(score, hue=None):\n",
    "    \n",
    "    sns.set_theme(style=\"white\", color_codes=True)\n",
    "\n",
    "    # Define variables\n",
    "    score2 = score[:,0:2]\n",
    "    xs = score2[:,0]\n",
    "    ys = score2[:,1]\n",
    "\n",
    "    scalex = 1.0/(xs.max() - xs.min())\n",
    "    scaley = 1.0/(ys.max() - ys.min())\n",
    "\n",
    "    # Define scatterplot\n",
    "\n",
    "    sns.scatterplot(x=xs * scalex, y=ys * scaley,\n",
    "                    palette='husl', s=10,\n",
    "                    linewidth=0, alpha=1,\n",
    "                    data=df5_clinical, hue=hue)\n",
    "\n",
    "    # Define plot specs\n",
    "    plt.title(\"PCA Decomposition by RNA-seq\",\n",
    "               fontsize = 12)        \n",
    "               \n",
    "    plt.xlabel(\"PC 1\")\n",
    "    plt.ylabel(\"PC 2\")\n",
    "    plt.tight_layout()\n",
    "\n",
    "    # Save figure\n",
    "    #plt.savefig('test' + title + '.png',\n",
    "    #bbox_inches='tight', dpi=300)\n",
    "\n",
    "    return(plt.show())"
   ]
  },
  {
   "cell_type": "code",
   "execution_count": null,
   "metadata": {},
   "outputs": [],
   "source": [
    "draw_PCAplot(data_PCs)\n",
    "draw_PCAplot(data_PCs, hue='Protocol')\n",
    "# FIXME Dawg where are the different colors for the different types of AML"
   ]
  },
  {
   "cell_type": "code",
   "execution_count": null,
   "metadata": {},
   "outputs": [],
   "source": [
    "df5_clinical[\"Protocol\"].value_counts()"
   ]
  },
  {
   "cell_type": "markdown",
   "metadata": {},
   "source": [
    "# UMAP"
   ]
  },
  {
   "cell_type": "code",
   "execution_count": null,
   "metadata": {},
   "outputs": [],
   "source": [
    "reducer = umap.UMAP(n_neighbors=15, min_dist=0.01, n_epochs=100, random_state=42)\n",
    "mp_umap = reducer.fit_transform(x)"
   ]
  },
  {
   "cell_type": "code",
   "execution_count": null,
   "metadata": {},
   "outputs": [],
   "source": [
    "def draw_UMAPplot(score, hue=None):\n",
    "    \n",
    "    sns.set_theme(style=\"white\", color_codes=True)\n",
    "\n",
    "    # Define variables\n",
    "    score2 = score[:,0:2]\n",
    "    xs = score2[:,0]\n",
    "    ys = score2[:,1]\n",
    "\n",
    "    # Define scatterplot\n",
    "\n",
    "    sns.scatterplot(data=df5_clinical, x=xs, y=ys,\n",
    "                    palette='husl', s=10,\n",
    "                    linewidth=0, alpha=1, hue=hue)\n",
    "\n",
    "    # Define plot specs\n",
    "    plt.title(\"UMAP by RNA-seq\",\n",
    "               fontsize = 12)        \n",
    "               \n",
    "    plt.xlabel(\"UMAP 1\")\n",
    "    plt.ylabel(\"UMAP 2\")\n",
    "    plt.tight_layout()\n",
    "\n",
    "    # Save figure\n",
    "    #plt.savefig('test2' + title + '.png',\n",
    "    #bbox_inches='tight', dpi=300)\n",
    "\n",
    "    return(plt.show())"
   ]
  },
  {
   "cell_type": "code",
   "execution_count": null,
   "metadata": {},
   "outputs": [],
   "source": [
    "df5_clinical[\"Protocol\"].value_counts()"
   ]
  },
  {
   "cell_type": "code",
   "execution_count": null,
   "metadata": {},
   "outputs": [],
   "source": [
    "#Call the UMAP function.\n",
    "draw_UMAPplot(mp_umap, hue=\"Primary Cytogenetic Code\")\n",
    "draw_UMAPplot(mp_umap, hue=\"Protocol\")\n",
    "draw_UMAPplot(mp_umap)"
   ]
  },
  {
   "cell_type": "markdown",
   "metadata": {},
   "source": [
    "# Testing\n",
    "Ignore"
   ]
  },
  {
   "cell_type": "code",
   "execution_count": null,
   "metadata": {},
   "outputs": [],
   "source": [
    "clinical_data = pd.read_pickle(\"../Data/Pre_Processed/clinical_data.pickle\")"
   ]
  },
  {
   "cell_type": "code",
   "execution_count": null,
   "metadata": {},
   "outputs": [],
   "source": [
    "clinical_data[\"Primary Cytogenetic Code\"].value_counts() # Types of AML"
   ]
  },
  {
   "cell_type": "markdown",
   "metadata": {},
   "source": [
    "aqui jaz - \n",
    "\n",
    "```python\n",
    "patients = HGNC_Log_Scaled.columns.values.tolist()\n",
    "patients = [w[:-8] for w in patients]\n",
    "res = []\n",
    "duplicates = []\n",
    "for x in patients:\n",
    "    if x not in res:\n",
    "        res.append(x)\n",
    "    else:\n",
    "        duplicates.append(x)\n",
    "\n",
    "# initial length of res = 1475\n",
    "# final length of res = 1411\n",
    "# ----------\n",
    "# 64 duplicates (length of duplicates)\n",
    "\n",
    "duplicates_2 = []\n",
    "res_2 = []\n",
    "for x in temp.index.tolist():\n",
    "    if x not in res_2:\n",
    "        res_2.append(x)\n",
    "    else:\n",
    "        duplicates_2.append(x)\n",
    "```"
   ]
  }
 ],
 "metadata": {
  "kernelspec": {
   "display_name": "Python 3.10.7 64-bit",
   "language": "python",
   "name": "python3"
  },
  "language_info": {
   "codemirror_mode": {
    "name": "ipython",
    "version": 3
   },
   "file_extension": ".py",
   "mimetype": "text/x-python",
   "name": "python",
   "nbconvert_exporter": "python",
   "pygments_lexer": "ipython3",
   "version": "3.10.7"
  },
  "orig_nbformat": 4,
  "vscode": {
   "interpreter": {
    "hash": "26de051ba29f2982a8de78e945f0abaf191376122a1563185a90213a26c5da77"
   }
  }
 },
 "nbformat": 4,
 "nbformat_minor": 2
}
